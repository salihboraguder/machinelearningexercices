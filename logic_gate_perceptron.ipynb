{
 "cells": [
  {
   "cell_type": "code",
   "execution_count": 1,
   "metadata": {},
   "outputs": [],
   "source": [
    "import numpy as np"
   ]
  },
  {
   "cell_type": "code",
   "execution_count": 405,
   "metadata": {},
   "outputs": [],
   "source": [
    "#Simple Perceptron\n",
    "#Takes 2 inputs and gives one output\n",
    "\n",
    "class Perceptron:\n",
    "    def __init__(self) -> None:\n",
    "\n",
    "        self.data_size = 4\n",
    "        self.w1 = np.random.rand()\n",
    "        self.w2 = np.random.rand()\n",
    "        self.b = np.random.rand()\n",
    "\n",
    "\n",
    "    #Activation Function\n",
    "    def sigmoid(self,x):\n",
    "        return 1/(1+np.exp(-x))\n",
    "\n",
    "\n",
    "    #Squared Error as cost function\n",
    "    def cost(self,X,Y,w1,w2,b):\n",
    "        preds = self.sigmoid(w1*X[:,0]+w2*X[:,1]+b)\n",
    "        #print((self.Y-preds)**2)\n",
    "        c = np.sum((Y-preds)**2)\n",
    "        return c\n",
    "    \n",
    "    \n",
    "    def predict(self,X):\n",
    "        if type(X)==tuple:\n",
    "            preds = round(float(self.sigmoid(self.w1*X[0]+self.w2*X[1]+self.b)))\n",
    "            return preds\n",
    "        elif len(X)== 1:\n",
    "            preds = self.sigmoid(self.w1*X[:,0]+self.w2*X[:,1]+self.b)\n",
    "            return round(float(preds))\n",
    "        else:\n",
    "            preds = self.sigmoid(self.w1*X[:,0]+self.w2*X[:,1]+self.b)\n",
    "            return preds\n",
    "\n",
    "    \n",
    "\n",
    "        \n",
    "    \n",
    "    def fit(self,X,Y,lr=1e-3,max_iter=300):\n",
    "        eps = 1e-2\n",
    "\n",
    "\n",
    "        #Calculating derivative using the limit definition\n",
    "\n",
    "        for i in range(max_iter):\n",
    "            dw1 = (self.cost(X=X,Y=Y,w1=(self.w1+eps),w2=self.w2,b=self.b)-self.cost(X=X,Y=Y,w1=(self.w1),w2=self.w2,b=self.b))/eps\n",
    "            self.w1 -=dw1*lr\n",
    "\n",
    "            dw2 = (self.cost(X=X,Y=Y,w1=(self.w1),w2=(self.w2+eps),b=self.b)-self.cost(X=X,Y=Y,w1=(self.w1),w2=self.w2,b=self.b))/eps\n",
    "            self.w2 -=dw2*lr\n",
    "\n",
    "            db = (self.cost(X=X,Y=Y,w1=(self.w1),w2=self.w2,b=(self.b+eps))-self.cost(X=X,Y=Y,w1=(self.w1),w2=self.w2,b=(self.b)))/eps\n",
    "            self.b -=db*lr\n",
    "            if i%(max_iter/2)==0:\n",
    "                print(f\"-----ITERATION {i+1}-----\")\n",
    "                print(str(self.cost(X=X,Y=Y,w1=(self.w1),w2=self.w2,b=self.b))+\"\\n\")\n",
    "\n",
    "        print(\"----PREDICTIONS----\")\n",
    "        for k in range(self.data_size):\n",
    "\n",
    "            print(f\"{X[k,0],X[k,1]} ----> {round(self.predict(X=X)[k])}\")\n",
    "\n",
    "        return None\n",
    "        \n",
    "        \n",
    "\n",
    "\n"
   ]
  },
  {
   "cell_type": "code",
   "execution_count": 98,
   "metadata": {},
   "outputs": [],
   "source": [
    "#Perceptron Matrix application\n",
    "\n",
    "\n",
    "class Matrix_Perceptron:\n",
    "    def __init__(self,input_size):\n",
    "        \n",
    "        self.input_size = input_size\n",
    "        self.W = (np.random.rand(self.input_size)-0.5)*2\n",
    "        self.b = (np.random.rand()-0.5)*2\n",
    "        \n",
    "\n",
    "\n",
    "    \n",
    "    #Activation Function\n",
    "    def sigmoid(self,x):\n",
    "        return 1/(1+np.exp(-x))\n",
    "\n",
    "\n",
    "\n",
    "    def cost(self,Y):\n",
    "        preds = self.sigmoid(np.dot(self.W.T,self.input)+self.b)\n",
    "        #print((self.Y-preds)**2)\n",
    "        c = np.sum((Y-preds)**2)\n",
    "        print(c)\n",
    "\n",
    "        return c\n",
    "    \n",
    "    def __str__(self) -> str:\n",
    "        final_str = \"----Perceptron----\\n\" + f\"Input Size: {self.input_size}\\n\" + f\"W size:{len(self.W)}\"\n",
    "        return final_str\n",
    "        \n",
    "    \n",
    "\n",
    "class Dense_Layer:\n",
    "\n",
    "    def __init__(self,size,input_size,inp,act_func=\"Relu\") -> None:\n",
    "        self.activationfunc = act_func\n",
    "        self.input = inp\n",
    "        self.input_size = input_size\n",
    "        self.size = size\n",
    "        self.percs = np.array([Matrix_Perceptron(input_size=input_size) for x in range(size)])\n",
    "        self.output = np.zeros((self.size,1))\n",
    "\n",
    "\n",
    "\n",
    "\n",
    "    def activation(self,x):\n",
    "        if self.activationfunc==\"Relu\":\n",
    "            return max(0,x)\n",
    "        elif self.activationfunc ==\"Sigmoid\":\n",
    "            return 1/(1+np.exp(-x))\n",
    "        else:\n",
    "            AssertionError(\"Sıkıntı!\")\n",
    "            return None\n",
    "\n",
    "        \n",
    "\n",
    "        \n",
    "    \n",
    "    def forward(self):\n",
    "        \n",
    "        for i,perceptron in enumerate(self.percs):\n",
    "            \n",
    "            self.output[i] = self.activation(np.dot(perceptron.W.T,self.input) + perceptron.b)\n",
    "        \n",
    "\n",
    "        return self.output\n",
    "        \n",
    "\n",
    "    \n",
    "    \n",
    "\n",
    "\n",
    "\n",
    "\n",
    "\n",
    "    \n",
    "\n",
    "    \n",
    "    "
   ]
  },
  {
   "cell_type": "code",
   "execution_count": 99,
   "metadata": {},
   "outputs": [],
   "source": [
    "X = np.array([2,3,4,5,6,7,8,9,10,11])\n",
    "Y = X*2\n",
    "deneme =Dense_Layer(size=20,input_size=10,inp = X,act_func=\"Sigmoid\")\n",
    "\n",
    "deneme2 = Dense_Layer(size=10,input_size= deneme.size,inp = deneme.forward())"
   ]
  },
  {
   "cell_type": "code",
   "execution_count": 100,
   "metadata": {},
   "outputs": [
    {
     "data": {
      "text/plain": [
       "array([[0.        ],\n",
       "       [0.        ],\n",
       "       [1.13415484],\n",
       "       [0.        ],\n",
       "       [0.        ],\n",
       "       [0.        ],\n",
       "       [0.        ],\n",
       "       [2.57166338],\n",
       "       [0.57704327],\n",
       "       [0.8260344 ]])"
      ]
     },
     "execution_count": 100,
     "metadata": {},
     "output_type": "execute_result"
    }
   ],
   "source": []
  },
  {
   "cell_type": "code",
   "execution_count": null,
   "metadata": {},
   "outputs": [],
   "source": [
    "\n"
   ]
  },
  {
   "cell_type": "code",
   "execution_count": null,
   "metadata": {},
   "outputs": [],
   "source": []
  },
  {
   "cell_type": "code",
   "execution_count": 33,
   "metadata": {},
   "outputs": [],
   "source": [
    "deneme = Matrix_Perceptron(inp = X)"
   ]
  },
  {
   "cell_type": "code",
   "execution_count": 34,
   "metadata": {},
   "outputs": [
    {
     "name": "stdout",
     "output_type": "stream",
     "text": [
      "1770.0000002399277\n"
     ]
    },
    {
     "data": {
      "text/plain": [
       "1770.0000002399277"
      ]
     },
     "execution_count": 34,
     "metadata": {},
     "output_type": "execute_result"
    }
   ],
   "source": [
    "deneme.cost(Y)"
   ]
  },
  {
   "cell_type": "code",
   "execution_count": 406,
   "metadata": {},
   "outputs": [],
   "source": [
    "\n",
    "or_data = np.array([\n",
    "    [0,0,0],\n",
    "    [0,1,1],\n",
    "    [1,0,1],\n",
    "    [1,1,1]\n",
    "])\n",
    "\n",
    "\n",
    "or_X = or_data[:,:2]\n",
    "or_Y = or_data[:,-1]"
   ]
  },
  {
   "cell_type": "code",
   "execution_count": 407,
   "metadata": {},
   "outputs": [
    {
     "name": "stdout",
     "output_type": "stream",
     "text": [
      "-----ITERATION 1-----\n",
      "0.6428048311949957\n",
      "\n",
      "-----ITERATION 10001-----\n",
      "0.03341407063620282\n",
      "\n",
      "----PREDICTIONS----\n",
      "(0, 0) ----> 0\n",
      "(0, 1) ----> 1\n",
      "(1, 0) ----> 1\n",
      "(1, 1) ----> 1\n"
     ]
    }
   ],
   "source": [
    "or_perceptron = Perceptron()\n",
    "or_perceptron.fit(or_X,or_Y,max_iter=20000,lr=1e-2)"
   ]
  },
  {
   "cell_type": "code",
   "execution_count": 408,
   "metadata": {},
   "outputs": [],
   "source": [
    "and_data = np.array([\n",
    "    [0,0,0],\n",
    "    [0,1,0],\n",
    "    [1,0,0],\n",
    "    [1,1,1]\n",
    "])\n",
    "\n",
    "\n",
    "and_X = and_data[:,:2]\n",
    "and_Y = and_data[:,-1]\n"
   ]
  },
  {
   "cell_type": "code",
   "execution_count": 409,
   "metadata": {},
   "outputs": [
    {
     "name": "stdout",
     "output_type": "stream",
     "text": [
      "-----ITERATION 1-----\n",
      "1.3439712871543479\n",
      "\n",
      "-----ITERATION 10001-----\n",
      "0.0626647814811803\n",
      "\n",
      "----PREDICTIONS----\n",
      "(0, 0) ----> 0\n",
      "(0, 1) ----> 0\n",
      "(1, 0) ----> 0\n",
      "(1, 1) ----> 1\n"
     ]
    }
   ],
   "source": [
    "and_perceptron = Perceptron()\n",
    "and_perceptron.fit(and_X,and_Y,max_iter=20000,lr=1e-2)"
   ]
  },
  {
   "cell_type": "code",
   "execution_count": 410,
   "metadata": {},
   "outputs": [],
   "source": [
    "nand_data = np.array([\n",
    "    [0,0,1],\n",
    "    [0,1,1],\n",
    "    [1,0,1],\n",
    "    [1,1,0]\n",
    "])\n",
    "\n",
    "\n",
    "nand_X = nand_data[:,:2]\n",
    "nand_Y = nand_data[:,-1]\n"
   ]
  },
  {
   "cell_type": "code",
   "execution_count": 411,
   "metadata": {},
   "outputs": [
    {
     "name": "stdout",
     "output_type": "stream",
     "text": [
      "-----ITERATION 1-----\n",
      "0.9322066101259132\n",
      "\n",
      "-----ITERATION 10001-----\n",
      "0.06400443616428034\n",
      "\n",
      "----PREDICTIONS----\n",
      "(0, 0) ----> 1\n",
      "(0, 1) ----> 1\n",
      "(1, 0) ----> 1\n",
      "(1, 1) ----> 0\n"
     ]
    }
   ],
   "source": [
    "nand_perceptron = Perceptron()\n",
    "nand_perceptron.fit(nand_X,nand_Y,max_iter=20000,lr=1e-2)"
   ]
  },
  {
   "cell_type": "code",
   "execution_count": 412,
   "metadata": {},
   "outputs": [],
   "source": [
    "#We can't train our perceptron to act like XOR but we can use our and and or perceptrons to achieve and XOR gate since (A OR B) AND (NOT (A AND B)) = A XOR B \n",
    "\n",
    "def xor(a,b) -> bool:\n",
    "    \n",
    "    a_or_b = or_perceptron.predict(X=(a,b))\n",
    "    a_nand_b = nand_perceptron.predict(X=(a,b))\n",
    "    a_xor_b = and_perceptron.predict((a_or_b,a_nand_b))\n",
    "\n",
    "    return a_xor_b\n"
   ]
  },
  {
   "cell_type": "code",
   "execution_count": 413,
   "metadata": {},
   "outputs": [
    {
     "name": "stdout",
     "output_type": "stream",
     "text": [
      "----XOR TABLE---\n",
      "0,0 ---> 0\n",
      "\n",
      "0,1 ---> 1\n",
      "\n",
      "1,0 ---> 1\n",
      "\n",
      "1,1 ---> 0\n",
      "\n"
     ]
    }
   ],
   "source": [
    "print(\"----XOR TABLE---\")\n",
    "\n",
    "for j in range(2):\n",
    "    for k in range(2):\n",
    "        print(f\"{j},{k} ---> {xor(j,k)}\\n\")"
   ]
  },
  {
   "cell_type": "code",
   "execution_count": 8,
   "metadata": {},
   "outputs": [],
   "source": [
    "W = np.random.rand(10,1)\n",
    "b = np.random.rand()"
   ]
  },
  {
   "cell_type": "code",
   "execution_count": 9,
   "metadata": {},
   "outputs": [],
   "source": [
    "X = np.array([1,2,3,4,5,6,7,8,9,19])"
   ]
  },
  {
   "cell_type": "code",
   "execution_count": 12,
   "metadata": {},
   "outputs": [
    {
     "data": {
      "text/plain": [
       "array([39.11382351])"
      ]
     },
     "execution_count": 12,
     "metadata": {},
     "output_type": "execute_result"
    }
   ],
   "source": [
    "np.dot(W.T,X)"
   ]
  },
  {
   "cell_type": "code",
   "execution_count": null,
   "metadata": {},
   "outputs": [],
   "source": []
  }
 ],
 "metadata": {
  "kernelspec": {
   "display_name": "Python 3",
   "language": "python",
   "name": "python3"
  },
  "language_info": {
   "codemirror_mode": {
    "name": "ipython",
    "version": 3
   },
   "file_extension": ".py",
   "mimetype": "text/x-python",
   "name": "python",
   "nbconvert_exporter": "python",
   "pygments_lexer": "ipython3",
   "version": "3.10.6"
  },
  "orig_nbformat": 4
 },
 "nbformat": 4,
 "nbformat_minor": 2
}
