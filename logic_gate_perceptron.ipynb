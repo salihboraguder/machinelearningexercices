{
 "cells": [
  {
   "cell_type": "code",
   "execution_count": 1,
   "metadata": {},
   "outputs": [],
   "source": [
    "import numpy as np"
   ]
  },
  {
   "cell_type": "code",
   "execution_count": 405,
   "metadata": {},
   "outputs": [],
   "source": [
    "#Simple Perceptron\n",
    "#Takes 2 inputs and gives one output\n",
    "\n",
    "class Perceptron:\n",
    "    def __init__(self) -> None:\n",
    "\n",
    "        self.data_size = 4\n",
    "        self.w1 = np.random.rand()\n",
    "        self.w2 = np.random.rand()\n",
    "        self.b = np.random.rand()\n",
    "\n",
    "\n",
    "    #Activation Function\n",
    "    def sigmoid(self,x):\n",
    "        return 1/(1+np.exp(-x))\n",
    "\n",
    "\n",
    "    #Squared Error as cost function\n",
    "    def cost(self,X,Y,w1,w2,b):\n",
    "        preds = self.sigmoid(w1*X[:,0]+w2*X[:,1]+b)\n",
    "        #print((self.Y-preds)**2)\n",
    "        c = np.sum((Y-preds)**2)\n",
    "        return c\n",
    "    \n",
    "    \n",
    "    def predict(self,X):\n",
    "        if type(X)==tuple:\n",
    "            preds = round(float(self.sigmoid(self.w1*X[0]+self.w2*X[1]+self.b)))\n",
    "            return preds\n",
    "        elif len(X)== 1:\n",
    "            preds = self.sigmoid(self.w1*X[:,0]+self.w2*X[:,1]+self.b)\n",
    "            return round(float(preds))\n",
    "        else:\n",
    "            preds = self.sigmoid(self.w1*X[:,0]+self.w2*X[:,1]+self.b)\n",
    "            return preds\n",
    "\n",
    "    \n",
    "\n",
    "        \n",
    "    \n",
    "    def fit(self,X,Y,lr=1e-3,max_iter=300):\n",
    "        eps = 1e-2\n",
    "\n",
    "\n",
    "        #Calculating derivative using the limit definition\n",
    "\n",
    "        for i in range(max_iter):\n",
    "            dw1 = (self.cost(X=X,Y=Y,w1=(self.w1+eps),w2=self.w2,b=self.b)-self.cost(X=X,Y=Y,w1=(self.w1),w2=self.w2,b=self.b))/eps\n",
    "            self.w1 -=dw1*lr\n",
    "\n",
    "            dw2 = (self.cost(X=X,Y=Y,w1=(self.w1),w2=(self.w2+eps),b=self.b)-self.cost(X=X,Y=Y,w1=(self.w1),w2=self.w2,b=self.b))/eps\n",
    "            self.w2 -=dw2*lr\n",
    "\n",
    "            db = (self.cost(X=X,Y=Y,w1=(self.w1),w2=self.w2,b=(self.b+eps))-self.cost(X=X,Y=Y,w1=(self.w1),w2=self.w2,b=(self.b)))/eps\n",
    "            self.b -=db*lr\n",
    "            if i%(max_iter/2)==0:\n",
    "                print(f\"-----ITERATION {i+1}-----\")\n",
    "                print(str(self.cost(X=X,Y=Y,w1=(self.w1),w2=self.w2,b=self.b))+\"\\n\")\n",
    "\n",
    "        print(\"----PREDICTIONS----\")\n",
    "        for k in range(self.data_size):\n",
    "\n",
    "            print(f\"{X[k,0],X[k,1]} ----> {round(self.predict(X=X)[k])}\")\n",
    "\n",
    "        return None\n",
    "        \n",
    "        \n",
    "\n",
    "\n"
   ]
  },
  {
   "cell_type": "code",
   "execution_count": 406,
   "metadata": {},
   "outputs": [],
   "source": [
    "\n",
    "or_data = np.array([\n",
    "    [0,0,0],\n",
    "    [0,1,1],\n",
    "    [1,0,1],\n",
    "    [1,1,1]\n",
    "])\n",
    "\n",
    "\n",
    "or_X = or_data[:,:2]\n",
    "or_Y = or_data[:,-1]"
   ]
  },
  {
   "cell_type": "code",
   "execution_count": 407,
   "metadata": {},
   "outputs": [
    {
     "name": "stdout",
     "output_type": "stream",
     "text": [
      "-----ITERATION 1-----\n",
      "0.6428048311949957\n",
      "\n",
      "-----ITERATION 10001-----\n",
      "0.03341407063620282\n",
      "\n",
      "----PREDICTIONS----\n",
      "(0, 0) ----> 0\n",
      "(0, 1) ----> 1\n",
      "(1, 0) ----> 1\n",
      "(1, 1) ----> 1\n"
     ]
    }
   ],
   "source": [
    "or_perceptron = Perceptron()\n",
    "or_perceptron.fit(or_X,or_Y,max_iter=20000,lr=1e-2)"
   ]
  },
  {
   "cell_type": "code",
   "execution_count": 408,
   "metadata": {},
   "outputs": [],
   "source": [
    "and_data = np.array([\n",
    "    [0,0,0],\n",
    "    [0,1,0],\n",
    "    [1,0,0],\n",
    "    [1,1,1]\n",
    "])\n",
    "\n",
    "\n",
    "and_X = and_data[:,:2]\n",
    "and_Y = and_data[:,-1]\n"
   ]
  },
  {
   "cell_type": "code",
   "execution_count": 409,
   "metadata": {},
   "outputs": [
    {
     "name": "stdout",
     "output_type": "stream",
     "text": [
      "-----ITERATION 1-----\n",
      "1.3439712871543479\n",
      "\n",
      "-----ITERATION 10001-----\n",
      "0.0626647814811803\n",
      "\n",
      "----PREDICTIONS----\n",
      "(0, 0) ----> 0\n",
      "(0, 1) ----> 0\n",
      "(1, 0) ----> 0\n",
      "(1, 1) ----> 1\n"
     ]
    }
   ],
   "source": [
    "and_perceptron = Perceptron()\n",
    "and_perceptron.fit(and_X,and_Y,max_iter=20000,lr=1e-2)"
   ]
  },
  {
   "cell_type": "code",
   "execution_count": 410,
   "metadata": {},
   "outputs": [],
   "source": [
    "nand_data = np.array([\n",
    "    [0,0,1],\n",
    "    [0,1,1],\n",
    "    [1,0,1],\n",
    "    [1,1,0]\n",
    "])\n",
    "\n",
    "\n",
    "nand_X = nand_data[:,:2]\n",
    "nand_Y = nand_data[:,-1]\n"
   ]
  },
  {
   "cell_type": "code",
   "execution_count": 411,
   "metadata": {},
   "outputs": [
    {
     "name": "stdout",
     "output_type": "stream",
     "text": [
      "-----ITERATION 1-----\n",
      "0.9322066101259132\n",
      "\n",
      "-----ITERATION 10001-----\n",
      "0.06400443616428034\n",
      "\n",
      "----PREDICTIONS----\n",
      "(0, 0) ----> 1\n",
      "(0, 1) ----> 1\n",
      "(1, 0) ----> 1\n",
      "(1, 1) ----> 0\n"
     ]
    }
   ],
   "source": [
    "nand_perceptron = Perceptron()\n",
    "nand_perceptron.fit(nand_X,nand_Y,max_iter=20000,lr=1e-2)"
   ]
  },
  {
   "cell_type": "code",
   "execution_count": 412,
   "metadata": {},
   "outputs": [],
   "source": [
    "#We can't train our perceptron to act like XOR but we can use our and and or perceptrons to achieve and XOR gate since (A OR B) AND (NOT (A AND B)) = A XOR B \n",
    "\n",
    "def xor(a,b) -> bool:\n",
    "    \n",
    "    a_or_b = or_perceptron.predict(X=(a,b))\n",
    "    a_nand_b = nand_perceptron.predict(X=(a,b))\n",
    "    a_xor_b = and_perceptron.predict((a_or_b,a_nand_b))\n",
    "\n",
    "    return a_xor_b\n"
   ]
  },
  {
   "cell_type": "code",
   "execution_count": 413,
   "metadata": {},
   "outputs": [
    {
     "name": "stdout",
     "output_type": "stream",
     "text": [
      "----XOR TABLE---\n",
      "0,0 ---> 0\n",
      "\n",
      "0,1 ---> 1\n",
      "\n",
      "1,0 ---> 1\n",
      "\n",
      "1,1 ---> 0\n",
      "\n"
     ]
    }
   ],
   "source": [
    "print(\"----XOR TABLE---\")\n",
    "\n",
    "for j in range(2):\n",
    "    for k in range(2):\n",
    "        print(f\"{j},{k} ---> {xor(j,k)}\\n\")"
   ]
  },
  {
   "cell_type": "code",
   "execution_count": 383,
   "metadata": {},
   "outputs": [
    {
     "name": "stdout",
     "output_type": "stream",
     "text": [
      "0\n",
      "1\n"
     ]
    },
    {
     "data": {
      "text/plain": [
       "0"
      ]
     },
     "execution_count": 383,
     "metadata": {},
     "output_type": "execute_result"
    }
   ],
   "source": []
  },
  {
   "cell_type": "code",
   "execution_count": null,
   "metadata": {},
   "outputs": [],
   "source": []
  }
 ],
 "metadata": {
  "kernelspec": {
   "display_name": "Python 3",
   "language": "python",
   "name": "python3"
  },
  "language_info": {
   "codemirror_mode": {
    "name": "ipython",
    "version": 3
   },
   "file_extension": ".py",
   "mimetype": "text/x-python",
   "name": "python",
   "nbconvert_exporter": "python",
   "pygments_lexer": "ipython3",
   "version": "3.10.6"
  },
  "orig_nbformat": 4
 },
 "nbformat": 4,
 "nbformat_minor": 2
}
