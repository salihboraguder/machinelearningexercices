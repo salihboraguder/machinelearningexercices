{
 "cells": [
  {
   "cell_type": "code",
   "execution_count": 1,
   "id": "f91dde02",
   "metadata": {
    "_cell_guid": "b1076dfc-b9ad-4769-8c92-a6c4dae69d19",
    "_uuid": "8f2839f25d086af736a60e9eeb907d3b93b6e0e5",
    "execution": {
     "iopub.execute_input": "2022-07-19T12:17:26.761990Z",
     "iopub.status.busy": "2022-07-19T12:17:26.761363Z",
     "iopub.status.idle": "2022-07-19T12:17:26.774198Z",
     "shell.execute_reply": "2022-07-19T12:17:26.773496Z"
    },
    "papermill": {
     "duration": 0.020561,
     "end_time": "2022-07-19T12:17:26.776266",
     "exception": false,
     "start_time": "2022-07-19T12:17:26.755705",
     "status": "completed"
    },
    "tags": []
   },
   "outputs": [
    {
     "name": "stdout",
     "output_type": "stream",
     "text": [
      "/kaggle/input/titanic/train.csv\n",
      "/kaggle/input/titanic/test.csv\n",
      "/kaggle/input/titanic/gender_submission.csv\n"
     ]
    }
   ],
   "source": [
    "# This Python 3 environment comes with many helpful analytics libraries installed\n",
    "# It is defined by the kaggle/python Docker image: https://github.com/kaggle/docker-python\n",
    "# For example, here's several helpful packages to load\n",
    "\n",
    "import numpy as np # linear algebra\n",
    "import pandas as pd # data processing, CSV file I/O (e.g. pd.read_csv)\n",
    "\n",
    "# Input data files are available in the read-only \"../input/\" directory\n",
    "# For example, running this (by clicking run or pressing Shift+Enter) will list all files under the input directory\n",
    "\n",
    "import os\n",
    "for dirname, _, filenames in os.walk('/kaggle/input'):\n",
    "    for filename in filenames:\n",
    "        print(os.path.join(dirname, filename))\n",
    "\n",
    "# You can write up to 20GB to the current directory (/kaggle/working/) that gets preserved as output when you create a version using \"Save & Run All\" \n",
    "# You can also write temporary files to /kaggle/temp/, but they won't be saved outside of the current session"
   ]
  },
  {
   "cell_type": "code",
   "execution_count": 2,
   "id": "eb9540e2",
   "metadata": {
    "execution": {
     "iopub.execute_input": "2022-07-19T12:17:26.784103Z",
     "iopub.status.busy": "2022-07-19T12:17:26.783571Z",
     "iopub.status.idle": "2022-07-19T12:17:26.839254Z",
     "shell.execute_reply": "2022-07-19T12:17:26.838323Z"
    },
    "papermill": {
     "duration": 0.062305,
     "end_time": "2022-07-19T12:17:26.841889",
     "exception": false,
     "start_time": "2022-07-19T12:17:26.779584",
     "status": "completed"
    },
    "tags": []
   },
   "outputs": [
    {
     "data": {
      "text/html": [
       "<div>\n",
       "<style scoped>\n",
       "    .dataframe tbody tr th:only-of-type {\n",
       "        vertical-align: middle;\n",
       "    }\n",
       "\n",
       "    .dataframe tbody tr th {\n",
       "        vertical-align: top;\n",
       "    }\n",
       "\n",
       "    .dataframe thead th {\n",
       "        text-align: right;\n",
       "    }\n",
       "</style>\n",
       "<table border=\"1\" class=\"dataframe\">\n",
       "  <thead>\n",
       "    <tr style=\"text-align: right;\">\n",
       "      <th></th>\n",
       "      <th>Pclass</th>\n",
       "      <th>Sex</th>\n",
       "      <th>Age</th>\n",
       "      <th>SibSp</th>\n",
       "      <th>Parch</th>\n",
       "      <th>Fare</th>\n",
       "      <th>Embarked</th>\n",
       "    </tr>\n",
       "  </thead>\n",
       "  <tbody>\n",
       "    <tr>\n",
       "      <th>0</th>\n",
       "      <td>3</td>\n",
       "      <td>male</td>\n",
       "      <td>22.0</td>\n",
       "      <td>1</td>\n",
       "      <td>0</td>\n",
       "      <td>7.2500</td>\n",
       "      <td>S</td>\n",
       "    </tr>\n",
       "    <tr>\n",
       "      <th>1</th>\n",
       "      <td>1</td>\n",
       "      <td>female</td>\n",
       "      <td>38.0</td>\n",
       "      <td>1</td>\n",
       "      <td>0</td>\n",
       "      <td>71.2833</td>\n",
       "      <td>C</td>\n",
       "    </tr>\n",
       "    <tr>\n",
       "      <th>2</th>\n",
       "      <td>3</td>\n",
       "      <td>female</td>\n",
       "      <td>26.0</td>\n",
       "      <td>0</td>\n",
       "      <td>0</td>\n",
       "      <td>7.9250</td>\n",
       "      <td>S</td>\n",
       "    </tr>\n",
       "    <tr>\n",
       "      <th>3</th>\n",
       "      <td>1</td>\n",
       "      <td>female</td>\n",
       "      <td>35.0</td>\n",
       "      <td>1</td>\n",
       "      <td>0</td>\n",
       "      <td>53.1000</td>\n",
       "      <td>S</td>\n",
       "    </tr>\n",
       "    <tr>\n",
       "      <th>4</th>\n",
       "      <td>3</td>\n",
       "      <td>male</td>\n",
       "      <td>35.0</td>\n",
       "      <td>0</td>\n",
       "      <td>0</td>\n",
       "      <td>8.0500</td>\n",
       "      <td>S</td>\n",
       "    </tr>\n",
       "    <tr>\n",
       "      <th>...</th>\n",
       "      <td>...</td>\n",
       "      <td>...</td>\n",
       "      <td>...</td>\n",
       "      <td>...</td>\n",
       "      <td>...</td>\n",
       "      <td>...</td>\n",
       "      <td>...</td>\n",
       "    </tr>\n",
       "    <tr>\n",
       "      <th>884</th>\n",
       "      <td>2</td>\n",
       "      <td>male</td>\n",
       "      <td>27.0</td>\n",
       "      <td>0</td>\n",
       "      <td>0</td>\n",
       "      <td>13.0000</td>\n",
       "      <td>S</td>\n",
       "    </tr>\n",
       "    <tr>\n",
       "      <th>885</th>\n",
       "      <td>1</td>\n",
       "      <td>female</td>\n",
       "      <td>19.0</td>\n",
       "      <td>0</td>\n",
       "      <td>0</td>\n",
       "      <td>30.0000</td>\n",
       "      <td>S</td>\n",
       "    </tr>\n",
       "    <tr>\n",
       "      <th>886</th>\n",
       "      <td>3</td>\n",
       "      <td>female</td>\n",
       "      <td>NaN</td>\n",
       "      <td>1</td>\n",
       "      <td>2</td>\n",
       "      <td>23.4500</td>\n",
       "      <td>S</td>\n",
       "    </tr>\n",
       "    <tr>\n",
       "      <th>887</th>\n",
       "      <td>1</td>\n",
       "      <td>male</td>\n",
       "      <td>26.0</td>\n",
       "      <td>0</td>\n",
       "      <td>0</td>\n",
       "      <td>30.0000</td>\n",
       "      <td>C</td>\n",
       "    </tr>\n",
       "    <tr>\n",
       "      <th>888</th>\n",
       "      <td>3</td>\n",
       "      <td>male</td>\n",
       "      <td>32.0</td>\n",
       "      <td>0</td>\n",
       "      <td>0</td>\n",
       "      <td>7.7500</td>\n",
       "      <td>Q</td>\n",
       "    </tr>\n",
       "  </tbody>\n",
       "</table>\n",
       "<p>889 rows × 7 columns</p>\n",
       "</div>"
      ],
      "text/plain": [
       "     Pclass     Sex   Age  SibSp  Parch     Fare Embarked\n",
       "0         3    male  22.0      1      0   7.2500        S\n",
       "1         1  female  38.0      1      0  71.2833        C\n",
       "2         3  female  26.0      0      0   7.9250        S\n",
       "3         1  female  35.0      1      0  53.1000        S\n",
       "4         3    male  35.0      0      0   8.0500        S\n",
       "..      ...     ...   ...    ...    ...      ...      ...\n",
       "884       2    male  27.0      0      0  13.0000        S\n",
       "885       1  female  19.0      0      0  30.0000        S\n",
       "886       3  female   NaN      1      2  23.4500        S\n",
       "887       1    male  26.0      0      0  30.0000        C\n",
       "888       3    male  32.0      0      0   7.7500        Q\n",
       "\n",
       "[889 rows x 7 columns]"
      ]
     },
     "execution_count": 2,
     "metadata": {},
     "output_type": "execute_result"
    }
   ],
   "source": [
    "train_data = pd.read_csv(\"../input/titanic/train.csv\")\n",
    "submission = train_data[\"PassengerId\"]\n",
    "#687 out of 891 rows are nan in cabin so I will drop it too\n",
    "train_data = train_data.drop([\"Name\",\"Ticket\",\"PassengerId\",\"Cabin\"],axis=1)\n",
    "y = train_data[\"Survived\"]\n",
    "X = train_data.drop(\"Survived\",axis=1)\n",
    "\n",
    "nan_embarked = X[\"Embarked\"][X[\"Embarked\"].isna()].index\n",
    "#Deleting 2 rows that has NaN in embarked column\n",
    "X = X.drop(nan_embarked)\n",
    "y = y.drop(nan_embarked)\n",
    "y.reset_index(drop=True)\n",
    "X.reset_index(drop=True)"
   ]
  },
  {
   "cell_type": "code",
   "execution_count": 3,
   "id": "99de10ed",
   "metadata": {
    "execution": {
     "iopub.execute_input": "2022-07-19T12:17:26.849886Z",
     "iopub.status.busy": "2022-07-19T12:17:26.849530Z",
     "iopub.status.idle": "2022-07-19T12:17:27.989938Z",
     "shell.execute_reply": "2022-07-19T12:17:27.989131Z"
    },
    "papermill": {
     "duration": 1.147061,
     "end_time": "2022-07-19T12:17:27.992294",
     "exception": false,
     "start_time": "2022-07-19T12:17:26.845233",
     "status": "completed"
    },
    "tags": []
   },
   "outputs": [],
   "source": [
    "from sklearn.model_selection import train_test_split\n",
    "X_train, X_valid, y_train, y_valid = train_test_split(X, y, test_size=0.3, random_state=42)"
   ]
  },
  {
   "cell_type": "code",
   "execution_count": 4,
   "id": "8149ebd8",
   "metadata": {
    "execution": {
     "iopub.execute_input": "2022-07-19T12:17:28.001188Z",
     "iopub.status.busy": "2022-07-19T12:17:28.000551Z",
     "iopub.status.idle": "2022-07-19T12:17:28.154172Z",
     "shell.execute_reply": "2022-07-19T12:17:28.153098Z"
    },
    "papermill": {
     "duration": 0.160551,
     "end_time": "2022-07-19T12:17:28.156421",
     "exception": false,
     "start_time": "2022-07-19T12:17:27.995870",
     "status": "completed"
    },
    "tags": []
   },
   "outputs": [
    {
     "name": "stderr",
     "output_type": "stream",
     "text": [
      "/opt/conda/lib/python3.7/site-packages/sklearn/utils/validation.py:1692: FutureWarning: Feature names only support names that are all strings. Got feature names with dtypes: ['int', 'str']. An error will be raised in 1.2.\n",
      "  FutureWarning,\n",
      "/opt/conda/lib/python3.7/site-packages/sklearn/utils/validation.py:1692: FutureWarning: Feature names only support names that are all strings. Got feature names with dtypes: ['int', 'str']. An error will be raised in 1.2.\n",
      "  FutureWarning,\n",
      "/opt/conda/lib/python3.7/site-packages/sklearn/utils/validation.py:1692: FutureWarning: Feature names only support names that are all strings. Got feature names with dtypes: ['int', 'str']. An error will be raised in 1.2.\n",
      "  FutureWarning,\n"
     ]
    }
   ],
   "source": [
    "from sklearn.preprocessing import OneHotEncoder\n",
    "X_train[\"Sex\"] = [1 if x==\"female\" else 0 for x in X_train[\"Sex\"]]\n",
    "X_valid[\"Sex\"] = [1 if x==\"female\" else 0 for x in X_valid[\"Sex\"]]\n",
    "# Apply one-hot encoder to each column with categorical dataonehotencoder1 = OneHotEncoder(categorical_features = [0])\n",
    "OH_encoder = OneHotEncoder(handle_unknown='ignore', sparse=False)\n",
    "OH_cols_train = pd.DataFrame(OH_encoder.fit_transform(pd.DataFrame(X_train[\"Embarked\"])))\n",
    "OH_cols_valid = pd.DataFrame(OH_encoder.transform(pd.DataFrame(X_valid[\"Embarked\"])))\n",
    "\n",
    "# One-hot encoding removed index; put it back\n",
    "OH_cols_train.index = X_train.index\n",
    "OH_cols_valid.index = X_valid.index\n",
    "\n",
    "# Remove categorical columns (will replace with one-hot encoding)\n",
    "num_X_train = X_train.drop(\"Embarked\", axis=1)\n",
    "num_X_valid = X_valid.drop(\"Embarked\", axis=1)\n",
    "\n",
    "# Add one-hot encoded columns to numerical features\n",
    "X_train = pd.concat([num_X_train, OH_cols_train], axis=1)\n",
    "X_valid = pd.concat([num_X_valid, OH_cols_valid], axis=1)\n",
    "\n",
    "from sklearn.impute import SimpleImputer\n",
    "my_imputer = SimpleImputer()\n",
    "imputed_X_train = pd.DataFrame(my_imputer.fit_transform(X_train))\n",
    "imputed_X_valid = pd.DataFrame(my_imputer.transform(X_valid))\n",
    "\n",
    "# Imputation removed column names; put them back\n",
    "imputed_X_train.columns = X_train.columns\n",
    "imputed_X_valid.columns = X_valid.columns\n",
    "\n",
    "X_train = imputed_X_train\n",
    "X_valid = imputed_X_valid"
   ]
  },
  {
   "cell_type": "code",
   "execution_count": 5,
   "id": "b667dda0",
   "metadata": {
    "execution": {
     "iopub.execute_input": "2022-07-19T12:17:28.164763Z",
     "iopub.status.busy": "2022-07-19T12:17:28.164436Z",
     "iopub.status.idle": "2022-07-19T12:17:28.169587Z",
     "shell.execute_reply": "2022-07-19T12:17:28.168402Z"
    },
    "papermill": {
     "duration": 0.011752,
     "end_time": "2022-07-19T12:17:28.171640",
     "exception": false,
     "start_time": "2022-07-19T12:17:28.159888",
     "status": "completed"
    },
    "tags": []
   },
   "outputs": [],
   "source": [
    "X_train.columns = ['Pclass', 'Sex', 'Age', 'SibSp', 'Parch', 'Fare', \"0\", \"1\", \"2\"]\n",
    "X_valid.columns = X_train.columns"
   ]
  },
  {
   "cell_type": "code",
   "execution_count": 6,
   "id": "b6bc5d72",
   "metadata": {
    "execution": {
     "iopub.execute_input": "2022-07-19T12:17:28.180155Z",
     "iopub.status.busy": "2022-07-19T12:17:28.179317Z",
     "iopub.status.idle": "2022-07-19T12:17:28.241256Z",
     "shell.execute_reply": "2022-07-19T12:17:28.240065Z"
    },
    "papermill": {
     "duration": 0.068963,
     "end_time": "2022-07-19T12:17:28.243943",
     "exception": false,
     "start_time": "2022-07-19T12:17:28.174980",
     "status": "completed"
    },
    "tags": []
   },
   "outputs": [],
   "source": [
    "#Training the model\n",
    "from sklearn.linear_model import LogisticRegression\n",
    "log = LogisticRegression(max_iter = 1000)\n",
    "log.fit(X_train,y_train)\n",
    "predictions = log.predict(X_valid)"
   ]
  },
  {
   "cell_type": "code",
   "execution_count": 7,
   "id": "025fd2d7",
   "metadata": {
    "execution": {
     "iopub.execute_input": "2022-07-19T12:17:28.252123Z",
     "iopub.status.busy": "2022-07-19T12:17:28.251776Z",
     "iopub.status.idle": "2022-07-19T12:17:28.262806Z",
     "shell.execute_reply": "2022-07-19T12:17:28.262016Z"
    },
    "papermill": {
     "duration": 0.01753,
     "end_time": "2022-07-19T12:17:28.264850",
     "exception": false,
     "start_time": "2022-07-19T12:17:28.247320",
     "status": "completed"
    },
    "tags": []
   },
   "outputs": [
    {
     "data": {
      "text/plain": [
       "0.7902621722846442"
      ]
     },
     "execution_count": 7,
     "metadata": {},
     "output_type": "execute_result"
    }
   ],
   "source": [
    "log.score(X_valid,y_valid)"
   ]
  },
  {
   "cell_type": "code",
   "execution_count": 8,
   "id": "8cccd341",
   "metadata": {
    "execution": {
     "iopub.execute_input": "2022-07-19T12:17:28.273289Z",
     "iopub.status.busy": "2022-07-19T12:17:28.272618Z",
     "iopub.status.idle": "2022-07-19T12:17:28.283971Z",
     "shell.execute_reply": "2022-07-19T12:17:28.282846Z"
    },
    "papermill": {
     "duration": 0.017777,
     "end_time": "2022-07-19T12:17:28.286072",
     "exception": false,
     "start_time": "2022-07-19T12:17:28.268295",
     "status": "completed"
    },
    "tags": []
   },
   "outputs": [],
   "source": [
    "deneme = pd.read_csv(\"../input/titanic/gender_submission.csv\")"
   ]
  },
  {
   "cell_type": "code",
   "execution_count": 9,
   "id": "3696dd47",
   "metadata": {
    "execution": {
     "iopub.execute_input": "2022-07-19T12:17:28.294582Z",
     "iopub.status.busy": "2022-07-19T12:17:28.293983Z",
     "iopub.status.idle": "2022-07-19T12:17:28.306212Z",
     "shell.execute_reply": "2022-07-19T12:17:28.305315Z"
    },
    "papermill": {
     "duration": 0.018926,
     "end_time": "2022-07-19T12:17:28.308433",
     "exception": false,
     "start_time": "2022-07-19T12:17:28.289507",
     "status": "completed"
    },
    "tags": []
   },
   "outputs": [],
   "source": [
    "test_data = pd.read_csv(\"../input/titanic/test.csv\")\n"
   ]
  },
  {
   "cell_type": "code",
   "execution_count": 10,
   "id": "b3c5abce",
   "metadata": {
    "execution": {
     "iopub.execute_input": "2022-07-19T12:17:28.316949Z",
     "iopub.status.busy": "2022-07-19T12:17:28.316254Z",
     "iopub.status.idle": "2022-07-19T12:17:28.334799Z",
     "shell.execute_reply": "2022-07-19T12:17:28.333641Z"
    },
    "papermill": {
     "duration": 0.025172,
     "end_time": "2022-07-19T12:17:28.337069",
     "exception": false,
     "start_time": "2022-07-19T12:17:28.311897",
     "status": "completed"
    },
    "tags": []
   },
   "outputs": [],
   "source": [
    "#Preprocessing the test data\n",
    "test_data_index = test_data[\"PassengerId\"]\n",
    "test_data = test_data.drop([\"Name\",\"Ticket\",\"PassengerId\",\"Cabin\"],axis=1)\n",
    "test_data[\"Sex\"] = [1 if x==\"female\" else 0 for x in test_data[\"Sex\"]]\n",
    "OH_encoder = OneHotEncoder(handle_unknown='ignore', sparse=False)\n",
    "OH_cols_test_data = pd.DataFrame(OH_encoder.fit_transform(pd.DataFrame(test_data[\"Embarked\"])))\n",
    "OH_cols_test_data.index = test_data.index\n",
    "num_test_data =test_data.drop(\"Embarked\", axis=1)\n",
    "test_data = pd.concat([num_test_data, OH_cols_test_data], axis=1)\n",
    "test_data.columns = X_train.columns\n",
    "my_imputer = SimpleImputer()\n",
    "imputed_test_data = pd.DataFrame(my_imputer.fit_transform(test_data))\n",
    "imputed_test_data.columns =test_data.columns\n"
   ]
  },
  {
   "cell_type": "code",
   "execution_count": 11,
   "id": "84a265cc",
   "metadata": {
    "execution": {
     "iopub.execute_input": "2022-07-19T12:17:28.345359Z",
     "iopub.status.busy": "2022-07-19T12:17:28.344700Z",
     "iopub.status.idle": "2022-07-19T12:17:28.354837Z",
     "shell.execute_reply": "2022-07-19T12:17:28.353925Z"
    },
    "papermill": {
     "duration": 0.016479,
     "end_time": "2022-07-19T12:17:28.356992",
     "exception": false,
     "start_time": "2022-07-19T12:17:28.340513",
     "status": "completed"
    },
    "tags": []
   },
   "outputs": [],
   "source": [
    "final_predictions = pd.DataFrame(np.array([test_data_index,log.predict(imputed_test_data)]).T)\n",
    "final_predictions.columns = [\"PassengerId\",\"Survived\"]\n",
    "final_predictions.to_csv('submission.csv', index=False)"
   ]
  }
 ],
 "metadata": {
  "kernelspec": {
   "display_name": "Python 3",
   "language": "python",
   "name": "python3"
  },
  "language_info": {
   "codemirror_mode": {
    "name": "ipython",
    "version": 3
   },
   "file_extension": ".py",
   "mimetype": "text/x-python",
   "name": "python",
   "nbconvert_exporter": "python",
   "pygments_lexer": "ipython3",
   "version": "3.7.12"
  },
  "papermill": {
   "default_parameters": {},
   "duration": 11.186824,
   "end_time": "2022-07-19T12:17:29.082042",
   "environment_variables": {},
   "exception": null,
   "input_path": "__notebook__.ipynb",
   "output_path": "__notebook__.ipynb",
   "parameters": {},
   "start_time": "2022-07-19T12:17:17.895218",
   "version": "2.3.4"
  }
 },
 "nbformat": 4,
 "nbformat_minor": 5
}
