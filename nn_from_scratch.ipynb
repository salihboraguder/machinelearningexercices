{
 "cells": [
  {
   "cell_type": "code",
   "execution_count": 5,
   "metadata": {},
   "outputs": [],
   "source": [
    "import numpy as np"
   ]
  },
  {
   "cell_type": "code",
   "execution_count": 120,
   "metadata": {},
   "outputs": [],
   "source": [
    "class Layer:\n",
    "\n",
    "    def relu(self,X):\n",
    "        return np.maximum(0,X)\n",
    "    \n",
    "    def linear(self,X):\n",
    "        return X\n",
    "    \n",
    "    def sigmoid(self,X):\n",
    "        return 1/(1 + np.exp(-X))\n",
    "\n",
    "    def __init__(self,unit_num,act_func,input_size) -> None:\n",
    "        \n",
    "        self.input_size = input_size\n",
    "        self.unit_num = unit_num\n",
    "        self.act_func = act_func\n",
    "        self.weights = np.random.rand(unit_num,input_size)*0.1\n",
    "        self.bias = np.zeros((unit_num,1))\n",
    "        \n",
    "\n",
    "\n",
    "\n",
    "    def forward_prop(self,inp):\n",
    "        if self.act_func == \"sigmoid\":\n",
    "            return self.sigmoid(np.dot(self.weights,inp) + self.bias)\n",
    "        \n",
    "        elif self.act_func == \"relu\":\n",
    "            return self.relu(np.dot(self.weights,inp) + self.bias)\n",
    "        \n",
    "\n",
    "    def __str__(self) -> str:\n",
    "        return f\"Layer with {self.unit_num} units and {self.act_func} activation function.\"\n",
    "        \n",
    "        \n",
    "\n",
    "\n",
    "        "
   ]
  },
  {
   "cell_type": "code",
   "execution_count": 136,
   "metadata": {},
   "outputs": [],
   "source": [
    "class NN:\n",
    "\n",
    "    def __init__(self) -> None:\n",
    "        self.layers = []\n",
    "        return None\n",
    "    def add_layer(self,input_size,activation_function,layer_size):\n",
    "\n",
    "        if (len(self.layers) == 0) or (input_size == self.layers[-1].unit_num):\n",
    "            new_layer = Layer(unit_num=layer_size,act_func = activation_function,input_size=input_size)\n",
    "            self.layers.append(new_layer)\n",
    "            print(\"Added a layer!\")\n",
    "        else:\n",
    "            raise Exception(\"Input Size don't match with the last layer's output size!\")\n",
    "\n",
    "\n",
    "\n",
    "        return None\n",
    "    \n",
    "    def __str__(self) -> str:\n",
    "\n",
    "        print(f\"Neural Network with {len(self.layers)} layers.\")\n",
    "        for lay in self.layers:\n",
    "            print(lay)\n",
    "        \n",
    "        return \"\"\n",
    "\n",
    "\n",
    "    def forward_propagation(self,X):\n",
    "        output = self.layers[0].forward_prop(X)\n",
    "\n",
    "        for i in range(1,len(self.layers)):\n",
    "            output = self.layers[i].forward_prop(output)\n",
    "            print(f\"Output of layer {i+1}:\\n{output}\")\n",
    "\n",
    "\n",
    "        return output\n"
   ]
  },
  {
   "cell_type": "code",
   "execution_count": 140,
   "metadata": {},
   "outputs": [],
   "source": [
    "deneme = NN()"
   ]
  },
  {
   "cell_type": "code",
   "execution_count": 141,
   "metadata": {},
   "outputs": [
    {
     "name": "stdout",
     "output_type": "stream",
     "text": [
      "Added a layer!\n",
      "Added a layer!\n",
      "Added a layer!\n",
      "Added a layer!\n"
     ]
    }
   ],
   "source": [
    "deneme.add_layer(input_size=3,activation_function=\"sigmoid\",layer_size=25)\n",
    "deneme.add_layer(input_size=25,activation_function=\"sigmoid\",layer_size=10)\n",
    "deneme.add_layer(input_size=10,activation_function=\"relu\",layer_size=5)\n",
    "deneme.add_layer(input_size=5,activation_function=\"sigmoid\",layer_size=1)"
   ]
  },
  {
   "cell_type": "code",
   "execution_count": 142,
   "metadata": {},
   "outputs": [],
   "source": [
    "X = np.array([[2],[3],[4]])"
   ]
  },
  {
   "cell_type": "code",
   "execution_count": 143,
   "metadata": {},
   "outputs": [
    {
     "name": "stdout",
     "output_type": "stream",
     "text": [
      "Output of layer 2:\n",
      "[[0.70151526]\n",
      " [0.69076235]\n",
      " [0.67592014]\n",
      " [0.68351347]\n",
      " [0.67476582]\n",
      " [0.70419903]\n",
      " [0.69319129]\n",
      " [0.66477722]\n",
      " [0.69425241]\n",
      " [0.70585335]]\n",
      "Output of layer 3:\n",
      "[[0.34954889]\n",
      " [0.35000619]\n",
      " [0.38429986]\n",
      " [0.32785115]\n",
      " [0.41407692]]\n",
      "Output of layer 4:\n",
      "[[0.52277131]]\n"
     ]
    },
    {
     "data": {
      "text/plain": [
       "array([[0.52277131]])"
      ]
     },
     "execution_count": 143,
     "metadata": {},
     "output_type": "execute_result"
    }
   ],
   "source": [
    "deneme.forward_propagation(X)"
   ]
  },
  {
   "cell_type": "code",
   "execution_count": null,
   "metadata": {},
   "outputs": [],
   "source": []
  },
  {
   "cell_type": "code",
   "execution_count": null,
   "metadata": {},
   "outputs": [],
   "source": []
  }
 ],
 "metadata": {
  "kernelspec": {
   "display_name": "Python 3.10.4 64-bit",
   "language": "python",
   "name": "python3"
  },
  "language_info": {
   "codemirror_mode": {
    "name": "ipython",
    "version": 3
   },
   "file_extension": ".py",
   "mimetype": "text/x-python",
   "name": "python",
   "nbconvert_exporter": "python",
   "pygments_lexer": "ipython3",
   "version": "3.10.12"
  },
  "orig_nbformat": 4,
  "vscode": {
   "interpreter": {
    "hash": "916dbcbb3f70747c44a77c7bcd40155683ae19c65e1c03b4aa3499c5328201f1"
   }
  }
 },
 "nbformat": 4,
 "nbformat_minor": 2
}
