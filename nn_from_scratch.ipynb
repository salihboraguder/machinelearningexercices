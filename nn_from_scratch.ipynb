{
 "cells": [
  {
   "cell_type": "code",
   "execution_count": 6,
   "metadata": {},
   "outputs": [],
   "source": [
    "import numpy as np"
   ]
  },
  {
   "cell_type": "code",
   "execution_count": 7,
   "metadata": {},
   "outputs": [],
   "source": [
    "\n",
    "\n",
    "\n",
    "class Layer:\n",
    "\n",
    "    def relu(self,X):\n",
    "        return np.maximum(0,X)\n",
    "    \n",
    "    def linear(self,X):\n",
    "        return X\n",
    "    \n",
    "    def sigmoid(self,X):\n",
    "        return 1/(1 + np.exp(-X))\n",
    "\n",
    "    def __init__(self,unit_num,act_func,input_size) -> None:\n",
    "        \n",
    "        self.input_size = input_size\n",
    "        self.unit_num = unit_num\n",
    "        self.act_func = act_func\n",
    "        self.weights = np.random.rand(unit_num,input_size)*0.1\n",
    "        self.bias = np.zeros((unit_num,1))\n",
    "        print(self.weights)\n",
    "        print(self.weights.shape)\n",
    "\n",
    "\n",
    "    def forward_prop(self,inp):\n",
    "\n",
    "        \n",
    "\n",
    "        if self.act_func == \"sigmoid\":\n",
    "\n",
    "            \n",
    "            return self.sigmoid(np.dot(self.weights,inp) + self.bias)\n",
    "        \n",
    "        elif self.act_func == \"relu\":\n",
    "\n",
    "            return self.relu(np.dot(self.weights,inp) + self.bias)\n",
    "        \n",
    "\n",
    "    def __str__(self) -> str:\n",
    "        return f\"Layer with {self.unit_num} units and {self.act_func} activation function.\"\n",
    "        \n",
    "        \n",
    "\n",
    "\n",
    "        "
   ]
  },
  {
   "cell_type": "code",
   "execution_count": 8,
   "metadata": {},
   "outputs": [],
   "source": [
    "class NN:\n",
    "\n",
    "    def __init__(self) -> None:\n",
    "        self.layers = []\n",
    "        return None\n",
    "    def add_layer(self,input_size,activation_function,layer_size):\n",
    "\n",
    "        new_layer = Layer(unit_num=layer_size,act_func = activation_function,input_size=input_size)\n",
    "        self.layers.append(new_layer)\n",
    "        return None\n",
    "    \n",
    "\n",
    "\n",
    "\n"
   ]
  },
  {
   "cell_type": "code",
   "execution_count": 9,
   "metadata": {},
   "outputs": [],
   "source": [
    "deneme = NN()"
   ]
  },
  {
   "cell_type": "code",
   "execution_count": 10,
   "metadata": {},
   "outputs": [
    {
     "name": "stdout",
     "output_type": "stream",
     "text": [
      "[[0.06892208 0.07936875 0.05119922]\n",
      " [0.02798635 0.09914478 0.04676236]\n",
      " [0.02351678 0.00071431 0.06197819]\n",
      " [0.09078899 0.04657907 0.07354136]\n",
      " [0.00573837 0.09346385 0.02779369]]\n",
      "(5, 3)\n"
     ]
    }
   ],
   "source": [
    "deneme.add_layer(input_size=3,activation_function=\"sigmoid\",layer_size=5)"
   ]
  },
  {
   "cell_type": "code",
   "execution_count": null,
   "metadata": {},
   "outputs": [],
   "source": []
  },
  {
   "cell_type": "code",
   "execution_count": null,
   "metadata": {},
   "outputs": [],
   "source": []
  }
 ],
 "metadata": {
  "kernelspec": {
   "display_name": "Python 3.10.4 64-bit",
   "language": "python",
   "name": "python3"
  },
  "language_info": {
   "codemirror_mode": {
    "name": "ipython",
    "version": 3
   },
   "file_extension": ".py",
   "mimetype": "text/x-python",
   "name": "python",
   "nbconvert_exporter": "python",
   "pygments_lexer": "ipython3",
   "version": "3.10.12"
  },
  "orig_nbformat": 4,
  "vscode": {
   "interpreter": {
    "hash": "916dbcbb3f70747c44a77c7bcd40155683ae19c65e1c03b4aa3499c5328201f1"
   }
  }
 },
 "nbformat": 4,
 "nbformat_minor": 2
}
